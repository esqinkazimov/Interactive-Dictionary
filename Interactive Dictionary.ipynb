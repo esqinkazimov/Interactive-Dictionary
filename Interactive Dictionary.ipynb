{
 "cells": [
  {
   "cell_type": "code",
   "execution_count": 1,
   "metadata": {},
   "outputs": [
    {
     "name": "stdout",
     "output_type": "stream",
     "text": [
      "Enter a word >>> Hello\n",
      "Expression of greeting used by two or more people who meet each other.\n",
      "\n",
      "Enter word (blank to quite) >>> each\n",
      "Every individual or anything of the given class, with no exceptions.\n",
      "Evenly distributed to; identical instances of; mapped to any of.\n",
      "\n",
      "Enter word (blank to quite) >>> SMPLE\n",
      "Did you mean simple instead? Enter Y if yes, or N if no: y\n",
      "Having few parts or features; having no special features.\n",
      "A person with poor judgment or little intelligence.\n",
      "Requiring little skill or effort; posing no difficulty.\n",
      "\n",
      "Enter word (blank to quite) >>> lfgfgh\n",
      "The word doesn't exist. Please double check it.\n",
      "\n",
      "Enter word (blank to quite) >>> placed\n",
      "Did you mean place instead? Enter Y if yes, or N if no: n\n",
      "The word doesn't exist. Please double check it.\n",
      "\n",
      "Enter word (blank to quite) >>> \n"
     ]
    }
   ],
   "source": [
    "# Import necessary modules and functions\n",
    "import json\n",
    "from difflib import get_close_matches\n",
    "\n",
    "# Load json file that contains all the words with their meanings\n",
    "data = json.load(open(\"data.json\"))\n",
    "\n",
    "## Create a function that looking for the meaning\n",
    "def translate(w):\n",
    "    w = w.lower()\n",
    "    if w in data:\n",
    "        return data[w]\n",
    "    # Ask if user made a spelling mistake\n",
    "    elif len(get_close_matches(w, data.keys())) > 0:\n",
    "        yn = input(\"Did you mean %s instead? Enter Y if yes, or N if no: \" % get_close_matches(w, data.keys())[0])\n",
    "        if yn.lower() == \"y\":\n",
    "            return data[get_close_matches(w, data.keys())[0]]\n",
    "        elif yn.lower() == \"n\":\n",
    "            return \"The word doesn't exist. Please double check it.\"\n",
    "        else:\n",
    "            return \"We didn't understand your entry.\"\n",
    "    else:\n",
    "        return \"The word doesn't exist. Please double check it.\"\n",
    "    \n",
    "# Read the word from the user\n",
    "word = input(\"Enter a word >>> \")\n",
    "\n",
    "# Continue asking for new words until the user leaves\n",
    "while word != '':\n",
    "    output = translate(word)\n",
    "    if type(output) == list:\n",
    "        for item in output:\n",
    "            print(item)\n",
    "    else:\n",
    "        print(output)\n",
    "    print()\n",
    "    word = input('Enter word (blank to quite) >>> ')"
   ]
  }
 ],
 "metadata": {
  "kernelspec": {
   "display_name": "Python 3",
   "language": "python",
   "name": "python3"
  },
  "language_info": {
   "codemirror_mode": {
    "name": "ipython",
    "version": 3
   },
   "file_extension": ".py",
   "mimetype": "text/x-python",
   "name": "python",
   "nbconvert_exporter": "python",
   "pygments_lexer": "ipython3",
   "version": "3.6.5"
  }
 },
 "nbformat": 4,
 "nbformat_minor": 2
}
